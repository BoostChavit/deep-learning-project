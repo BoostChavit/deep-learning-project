{
 "cells": [
  {
   "cell_type": "code",
   "execution_count": 78,
   "metadata": {},
   "outputs": [],
   "source": [
    "import cv2\n",
    "import os\n",
    "import pandas as pd\n",
    "import numpy as np\n",
    "import keras, tensorflow as tf\n",
    "import matplotlib.pyplot as plt\n",
    "\n",
    "from keras.models import Sequential\n",
    "from keras.layers import Dense, Dropout, Activation, Flatten\n",
    "from keras.layers import Conv2D, MaxPooling2D, BatchNormalization\n",
    "\n",
    "from sklearn.model_selection import train_test_split\n",
    "\n"
   ]
  },
  {
   "cell_type": "code",
   "execution_count": 3,
   "metadata": {},
   "outputs": [],
   "source": [
    "def extract(img, smaller):\n",
    "        \n",
    "    # Convert the image to gray scale\n",
    "    gray = cv2.cvtColor(img, cv2.COLOR_BGR2GRAY)\n",
    "    \n",
    "    ret, thresh1 = cv2.threshold(gray, 0, 255, cv2.THRESH_OTSU | cv2.THRESH_BINARY_INV)\n",
    "\n",
    "    if(smaller):\n",
    "        rect_kernel = cv2.getStructuringElement(cv2.MORPH_RECT, (1, 1))\n",
    "\n",
    "        # Applying dilation on the threshold image\n",
    "        dilation = cv2.morphologyEx(thresh1, cv2.MORPH_OPEN, rect_kernel, iterations = 1)\n",
    "        # dilation = cv2.dilate(thresh1, rect_kernel, iterations = 1)\n",
    "    else:\n",
    "        rect_kernel = cv2.getStructuringElement(cv2.MORPH_RECT, (18, 18))\n",
    "\n",
    "        # Applying dilation on the threshold image\n",
    "        dilation = cv2.dilate(thresh1, rect_kernel, iterations = 2)\n",
    "\n",
    "    # Finding contours\n",
    "    contours, hierarchy = cv2.findContours(dilation, cv2.RETR_EXTERNAL, \n",
    "                                                    cv2.CHAIN_APPROX_NONE)\n",
    "\n",
    "    return contours"
   ]
  },
  {
   "cell_type": "code",
   "execution_count": 62,
   "metadata": {},
   "outputs": [],
   "source": [
    "def boundingbox(img_path, model):\n",
    "    img = cv2.imread(img_path)\n",
    "    contours = extract(img, False)\n",
    "\n",
    "    sum = 0\n",
    "    y_pred = []\n",
    "    boxes = []\n",
    "    im = img.copy()\n",
    "\n",
    "    for cnt in contours:\n",
    "        x, y, w, h = cv2.boundingRect(cnt)\n",
    "        \n",
    "        # rect = cv2.rectangle(im2, (x, y), (x + w, y + h), (255, 0, 0), 2)\n",
    "            \n",
    "        # Cropping the text block\n",
    "        cropped = img[y:y + h, x:x + w]\n",
    "\n",
    "        # extract each alphabet from each block\n",
    "        contours2 = extract(cropped, True)\n",
    "        \n",
    "        for i in contours2:\n",
    "            # count alphabets \n",
    "            sum += 1\n",
    "\n",
    "            x2, y2, w2, h2 = cv2.boundingRect(i)\n",
    "            \n",
    "            cropped2 = img[y+y2: y+y2+h2, x+x2: x+x2+w2]\n",
    "            \n",
    "            boxes.append([x+x2, y+y2, x+x2 + w2, y+y2 + h2]) \n",
    "\n",
    "            cropped2 = cv2.resize(cropped2, (64,64))\n",
    "            \n",
    "            plt.imshow(cropped2)\n",
    "            cropped2 = cropped2.reshape((1, 64, 64, 3))\n",
    "\n",
    "            y_pred.append(model.predict(cropped2))\n",
    "\n",
    "\n",
    "    y_pred = np.array(y_pred)\n",
    "    return sum, y_pred, boxes, im\n"
   ]
  },
  {
   "cell_type": "code",
   "execution_count": 175,
   "metadata": {},
   "outputs": [
    {
     "name": "stdout",
     "output_type": "stream",
     "text": [
      "Model: \"sequential_24\"\n",
      "_________________________________________________________________\n",
      " Layer (type)                Output Shape              Param #   \n",
      "=================================================================\n",
      " conv2d_120 (Conv2D)         (None, 64, 64, 32)        896       \n",
      "                                                                 \n",
      " conv2d_121 (Conv2D)         (None, 64, 64, 32)        9248      \n",
      "                                                                 \n",
      " batch_normalization_42 (Ba  (None, 64, 64, 32)        128       \n",
      " tchNormalization)                                               \n",
      "                                                                 \n",
      " max_pooling2d_75 (MaxPooli  (None, 32, 32, 32)        0         \n",
      " ng2D)                                                           \n",
      "                                                                 \n",
      " conv2d_122 (Conv2D)         (None, 32, 32, 32)        9248      \n",
      "                                                                 \n",
      " conv2d_123 (Conv2D)         (None, 32, 32, 32)        9248      \n",
      "                                                                 \n",
      " batch_normalization_43 (Ba  (None, 32, 32, 32)        128       \n",
      " tchNormalization)                                               \n",
      "                                                                 \n",
      " max_pooling2d_76 (MaxPooli  (None, 16, 16, 32)        0         \n",
      " ng2D)                                                           \n",
      "                                                                 \n",
      " conv2d_124 (Conv2D)         (None, 16, 16, 32)        9248      \n",
      "                                                                 \n",
      " conv2d_125 (Conv2D)         (None, 16, 16, 32)        9248      \n",
      "                                                                 \n",
      " batch_normalization_44 (Ba  (None, 16, 16, 32)        128       \n",
      " tchNormalization)                                               \n",
      "                                                                 \n",
      " max_pooling2d_77 (MaxPooli  (None, 8, 8, 32)          0         \n",
      " ng2D)                                                           \n",
      "                                                                 \n",
      " flatten_24 (Flatten)        (None, 2048)              0         \n",
      "                                                                 \n",
      " dense_72 (Dense)            (None, 256)               524544    \n",
      "                                                                 \n",
      " dropout_40 (Dropout)        (None, 256)               0         \n",
      "                                                                 \n",
      " dense_73 (Dense)            (None, 256)               65792     \n",
      "                                                                 \n",
      " dropout_41 (Dropout)        (None, 256)               0         \n",
      "                                                                 \n",
      " dense_74 (Dense)            (None, 62)                15934     \n",
      "                                                                 \n",
      "=================================================================\n",
      "Total params: 653790 (2.49 MB)\n",
      "Trainable params: 653598 (2.49 MB)\n",
      "Non-trainable params: 192 (768.00 Byte)\n",
      "_________________________________________________________________\n"
     ]
    }
   ],
   "source": [
    "model = Sequential()\n",
    "model.add(Conv2D(32, (3, 3), activation='relu', padding='same', input_shape=(64, 64, 3)))\n",
    "model.add(Conv2D(32, (3, 3), activation='relu', padding='same'))\n",
    "model.add(BatchNormalization())\n",
    "model.add(MaxPooling2D((2, 2), strides=(2, 2)))\n",
    "\n",
    "# Block 2\n",
    "model.add(Conv2D(32, (3, 3), activation='relu', padding='same'))\n",
    "model.add(Conv2D(32, (3, 3), activation='relu', padding='same'))\n",
    "model.add(BatchNormalization())\n",
    "model.add(MaxPooling2D((2, 2), strides=(2, 2)))\n",
    "\n",
    "# # Block 3\n",
    "model.add(Conv2D(32, (3, 3), activation='relu', padding='same'))\n",
    "model.add(Conv2D(32, (3, 3), activation='relu', padding='same'))\n",
    "model.add(BatchNormalization())\n",
    "model.add(MaxPooling2D((2, 2), strides=(2, 2)))\n",
    "\n",
    "# Flatten and fully connected layers\n",
    "model.add(Flatten())\n",
    "model.add(Dense(256, activation='relu'))\n",
    "model.add(Dropout(0.5))  # Adding dropout\n",
    "model.add(Dense(256, activation='relu'))\n",
    "model.add(Dropout(0.5))  # Adding dropout\n",
    "model.add(Dense(62, activation='softmax'))\n",
    "model.summary()"
   ]
  },
  {
   "cell_type": "code",
   "execution_count": 144,
   "metadata": {},
   "outputs": [],
   "source": [
    "# each classes(62 classes) has 55 images \n",
    "model_training_csv = os.path.join(os.getcwd(), 'alphabets/english.csv')\n",
    "model_image_training = os.path.join(os.getcwd(), 'alphabets')\n",
    "\n",
    "# make dataframe for training model \n",
    "model_training_df = pd.read_csv(model_training_csv)\n",
    "# add columns of image\n",
    "model_training_df['img'] = ''\n",
    "# get image for each image name\n",
    "for i in range(len(model_training_df)):\n",
    "    img_path = os.path.join(model_image_training, model_training_df.at[i, 'image'])\n",
    "    img = cv2.imread(img_path)\n",
    "    img = cv2.resize(img, (64, 64))\n",
    "\n",
    "    model_training_df.at[i, 'img'] = img\n",
    "# get all class names\n",
    "class_names = model_training_df.label.unique()\n",
    "\n",
    "# split each class equaly\n",
    "x_train, y_train, x_test, y_test = [], [], [], []\n",
    "temp = []\n",
    "for name in class_names:\n",
    "    split = model_training_df[model_training_df.label == name]\n",
    "    X = split['img']\n",
    "    Y = split['label']\n",
    "    Y = [np.where(class_names == label)[0] for label in Y]\n",
    "\n",
    "    X_train, X_test, Y_train, Y_test = train_test_split(X,Y, train_size=0.7)\n",
    "\n",
    "    x_train.extend(X_train)\n",
    "    y_train.extend(Y_train)\n",
    "    x_test.extend(X_test)\n",
    "    y_test.extend(Y_test)\n",
    "\n",
    "\n",
    "# shuffle order of train and test data\n",
    "temp_x_train, temp_y_train, temp_x_test, temp_y_test = [], [], [], []\n",
    "\n",
    "train_rand_order = np.arange(len(x_train))\n",
    "test_rand_order = np.arange(len(x_test))\n",
    "np.random.shuffle(train_rand_order)\n",
    "np.random.shuffle(test_rand_order)\n",
    "for i in train_rand_order:\n",
    "    temp_x_train.append(x_train[i])\n",
    "    temp_y_train.append(y_train[i])\n",
    "\n",
    "for j in test_rand_order:\n",
    "    temp_x_test.append(x_test[j])\n",
    "    temp_y_test.append(y_test[j])    \n",
    "\n",
    "x_train = np.array(temp_x_train, dtype=np.float32)\n",
    "x_test = np.array(temp_x_test, dtype=np.float32)\n",
    "y_train = np.array(temp_y_train)\n",
    "y_test = np.array(temp_y_test)\n",
    "\n",
    "\n",
    "# one-hot-encoded the label\n",
    "y_train = keras.utils.to_categorical(y_train, len(class_names))\n",
    "y_test = keras.utils.to_categorical(y_test, len(class_names))"
   ]
  },
  {
   "cell_type": "code",
   "execution_count": 176,
   "metadata": {},
   "outputs": [
    {
     "name": "stdout",
     "output_type": "stream",
     "text": [
      "Epoch 1/25\n",
      "74/74 [==============================] - 9s 120ms/step - loss: 4.3510 - accuracy: 0.0195 - val_loss: 4.1176 - val_accuracy: 0.0199\n",
      "Epoch 2/25\n",
      "74/74 [==============================] - 10s 138ms/step - loss: 4.1366 - accuracy: 0.0221 - val_loss: 4.0744 - val_accuracy: 0.0474\n",
      "Epoch 3/25\n",
      "74/74 [==============================] - 10s 139ms/step - loss: 4.0301 - accuracy: 0.0433 - val_loss: 3.8739 - val_accuracy: 0.0503\n",
      "Epoch 4/25\n",
      "74/74 [==============================] - 10s 140ms/step - loss: 3.9109 - accuracy: 0.0586 - val_loss: 3.6853 - val_accuracy: 0.1167\n",
      "Epoch 5/25\n",
      "74/74 [==============================] - 10s 142ms/step - loss: 3.7475 - accuracy: 0.0789 - val_loss: 3.4083 - val_accuracy: 0.1679\n",
      "Epoch 6/25\n",
      "74/74 [==============================] - 11s 143ms/step - loss: 3.5535 - accuracy: 0.1142 - val_loss: 3.2779 - val_accuracy: 0.2097\n",
      "Epoch 7/25\n",
      "74/74 [==============================] - 11s 146ms/step - loss: 3.3582 - accuracy: 0.1515 - val_loss: 3.0517 - val_accuracy: 0.2505\n",
      "Epoch 8/25\n",
      "74/74 [==============================] - 11s 148ms/step - loss: 3.1591 - accuracy: 0.1808 - val_loss: 2.7066 - val_accuracy: 0.3235\n",
      "Epoch 9/25\n",
      "74/74 [==============================] - 11s 154ms/step - loss: 2.9982 - accuracy: 0.2105 - val_loss: 2.5329 - val_accuracy: 0.3805\n",
      "Epoch 10/25\n",
      "74/74 [==============================] - 11s 155ms/step - loss: 2.8102 - accuracy: 0.2424 - val_loss: 2.2556 - val_accuracy: 0.4355\n",
      "Epoch 11/25\n",
      "74/74 [==============================] - 12s 158ms/step - loss: 2.5965 - accuracy: 0.2767 - val_loss: 2.0326 - val_accuracy: 0.4886\n",
      "Epoch 12/25\n",
      "74/74 [==============================] - 12s 166ms/step - loss: 2.4395 - accuracy: 0.3209 - val_loss: 1.8616 - val_accuracy: 0.5057\n",
      "Epoch 13/25\n",
      "74/74 [==============================] - 13s 170ms/step - loss: 2.2535 - accuracy: 0.3850 - val_loss: 1.7092 - val_accuracy: 0.5560\n",
      "Epoch 14/25\n",
      "74/74 [==============================] - 13s 173ms/step - loss: 2.0840 - accuracy: 0.4066 - val_loss: 1.6427 - val_accuracy: 0.5797\n",
      "Epoch 15/25\n",
      "74/74 [==============================] - 13s 176ms/step - loss: 1.9675 - accuracy: 0.4249 - val_loss: 1.4119 - val_accuracy: 0.6129\n",
      "Epoch 16/25\n",
      "74/74 [==============================] - 13s 179ms/step - loss: 1.8537 - accuracy: 0.4567 - val_loss: 1.3594 - val_accuracy: 0.6157\n",
      "Epoch 17/25\n",
      "74/74 [==============================] - 14s 191ms/step - loss: 1.6543 - accuracy: 0.5068 - val_loss: 1.4369 - val_accuracy: 0.5958\n",
      "Epoch 18/25\n",
      "74/74 [==============================] - 14s 186ms/step - loss: 1.5961 - accuracy: 0.5136 - val_loss: 1.2255 - val_accuracy: 0.6651\n",
      "Epoch 19/25\n",
      "74/74 [==============================] - 14s 188ms/step - loss: 1.5529 - accuracy: 0.5301 - val_loss: 1.2587 - val_accuracy: 0.6499\n",
      "Epoch 20/25\n",
      "74/74 [==============================] - 14s 187ms/step - loss: 1.4692 - accuracy: 0.5535 - val_loss: 1.0948 - val_accuracy: 0.6698\n",
      "Epoch 21/25\n",
      "74/74 [==============================] - 14s 187ms/step - loss: 1.3448 - accuracy: 0.5947 - val_loss: 1.0700 - val_accuracy: 0.6935\n",
      "Epoch 22/25\n",
      "74/74 [==============================] - 14s 191ms/step - loss: 1.2375 - accuracy: 0.6070 - val_loss: 1.1332 - val_accuracy: 0.6622\n",
      "Epoch 23/25\n",
      "74/74 [==============================] - 14s 191ms/step - loss: 1.1860 - accuracy: 0.6341 - val_loss: 1.0540 - val_accuracy: 0.6841\n",
      "Epoch 24/25\n",
      "74/74 [==============================] - 15s 202ms/step - loss: 1.1249 - accuracy: 0.6422 - val_loss: 0.9874 - val_accuracy: 0.7201\n",
      "Epoch 25/25\n",
      "74/74 [==============================] - 14s 191ms/step - loss: 1.0585 - accuracy: 0.6583 - val_loss: 0.8264 - val_accuracy: 0.7666\n"
     ]
    }
   ],
   "source": [
    "batch_size = 32\n",
    "\n",
    "# initiate RMSprop optimizer\n",
    "# Using M1 mac\n",
    "opt = keras.optimizers.legacy.RMSprop(learning_rate=0.0005)\n",
    "\n",
    "# Let's train the model using RMSprop\n",
    "model.compile(loss='categorical_crossentropy',\n",
    "                optimizer=opt,\n",
    "                metrics=['accuracy'])\n",
    "\n",
    "history_1 = model.fit(x_train, y_train,\n",
    "                        batch_size=batch_size,\n",
    "                        epochs=25,\n",
    "                        validation_data=(x_test, y_test),\n",
    "                        shuffle=True)\n"
   ]
  },
  {
   "cell_type": "code",
   "execution_count": 177,
   "metadata": {},
   "outputs": [
    {
     "name": "stdout",
     "output_type": "stream",
     "text": [
      "TEST_37868.jpg\n",
      "1/1 [==============================] - 0s 62ms/step\n",
      "1/1 [==============================] - 0s 12ms/step\n",
      "1/1 [==============================] - 0s 12ms/step\n",
      "1/1 [==============================] - 0s 20ms/step\n"
     ]
    },
    {
     "data": {
      "image/png": "[encoded data removed]",
      "text/plain": [
       "<Figure size 640x480 with 1 Axes>"
      ]
     },
     "metadata": {},
     "output_type": "display_data"
    }
   ],
   "source": [
    "train_img_path = os.path.join(os.getcwd(), \"archive/train_v2/train\")\n",
    "test_img_path = os.path.join(os.getcwd(), \"archive/test_v2/test\")\n",
    "\n",
    "train_csv_path = os.path.join(os.getcwd(), \"archive/written_name_train_v2.csv\")\n",
    "test_csv_path = os.path.join(os.getcwd(), \"archive/written_name_test_v2.csv\")\n",
    "\n",
    "\n",
    "\n",
    "df = pd.read_csv(test_csv_path)\n",
    "cnt = 0\n",
    "im = 0\n",
    "boxes = []\n",
    "\n",
    "# for i in range (df.shape[0]):\n",
    "for i in range (37867,37868):\n",
    "    print(df['FILENAME'][i])\n",
    "    img_name = os.path.join(test_img_path, df['FILENAME'][i])\n",
    "    num_of_char, y_pred, boxes, img = boundingbox(img_name, model)\n",
    "    # if num_of_char == len(str(df['IDENTITY'][i])):\n",
    "    #     cnt += 1\n",
    "    im = img\n",
    "    cnt = num_of_char"
   ]
  },
  {
   "cell_type": "code",
   "execution_count": 178,
   "metadata": {},
   "outputs": [
    {
     "name": "stdout",
     "output_type": "stream",
     "text": [
      "wMQM\n",
      "4\n"
     ]
    }
   ],
   "source": [
    "word = ''\n",
    "for i in y_pred:\n",
    "    m = np.argmax(i)\n",
    "    word += class_names[m]\n",
    "print(word)\n",
    "print(cnt)"
   ]
  },
  {
   "cell_type": "code",
   "execution_count": 75,
   "metadata": {},
   "outputs": [
    {
     "data": {
      "text/plain": [
       "<matplotlib.image.AxesImage at 0x2f21a6fd0>"
      ]
     },
     "execution_count": 75,
     "metadata": {},
     "output_type": "execute_result"
    },
    {
     "data": {
      "image/png": "[encoded data removed]",
      "text/plain": [
       "<Figure size 640x480 with 1 Axes>"
      ]
     },
     "metadata": {},
     "output_type": "display_data"
    }
   ],
   "source": [
    "plt.imshow(im)"
   ]
  },
  {
   "cell_type": "code",
   "execution_count": 76,
   "metadata": {},
   "outputs": [
    {
     "data": {
      "text/plain": [
       "<matplotlib.image.AxesImage at 0x2edc7df90>"
      ]
     },
     "execution_count": 76,
     "metadata": {},
     "output_type": "execute_result"
    },
    {
     "data": {
      "image/png": "[encoded data removed]",
      "text/plain": [
       "<Figure size 640x480 with 1 Axes>"
      ]
     },
     "metadata": {},
     "output_type": "display_data"
    }
   ],
   "source": [
    "# save resulting image\n",
    "for x1, y1, x2, y2 in boxes:\n",
    "    rect = cv2.rectangle(im, (x1, y1), (x2, y2), (255, 0, 0), 2)\n",
    "plt.imshow(im)"
   ]
  }
 ],
 "metadata": {
  "kernelspec": {
   "display_name": "Python 3",
   "language": "python",
   "name": "python3"
  },
  "language_info": {
   "codemirror_mode": {
    "name": "ipython",
    "version": 3
   },
   "file_extension": ".py",
   "mimetype": "text/x-python",
   "name": "python",
   "nbconvert_exporter": "python",
   "pygments_lexer": "ipython3",
   "version": "3.11.5"
  }
 },
 "nbformat": 4,
 "nbformat_minor": 2
}
