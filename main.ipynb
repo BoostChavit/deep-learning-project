{
 "cells": [
  {
   "cell_type": "code",
   "execution_count": 2,
   "metadata": {},
   "outputs": [],
   "source": [
    "import pytesseract\n",
    "import cv2"
   ]
  },
  {
   "cell_type": "code",
   "execution_count": 14,
   "metadata": {},
   "outputs": [],
   "source": [
    "img_name = \"sample1.jpg\"\n",
    "img_path = 'samples/' + img_name"
   ]
  },
  {
   "cell_type": "code",
   "execution_count": 15,
   "metadata": {},
   "outputs": [],
   "source": [
    "def show(name, img):\n",
    "    cv2.imshow(name, img)\n",
    "    cv2.waitKey(0)\n",
    "    cv2.destroyAllWindows()"
   ]
  },
  {
   "cell_type": "code",
   "execution_count": 16,
   "metadata": {},
   "outputs": [],
   "source": [
    "def extract(img_path):\n",
    "    # Read image from which text needs to be extracted\n",
    "    img = cv2.imread(img_path)\n",
    "    \n",
    "    # Preprocessing the image starts\n",
    "    \n",
    "    # Convert the image to gray scale\n",
    "    gray = cv2.cvtColor(img, cv2.COLOR_BGR2GRAY)\n",
    "    cv2.imwrite(f'grays/gray_{img_name}',gray)      \n",
    "    \n",
    "    # Performing OTSU threshold\n",
    "    ret, thresh1 = cv2.threshold(gray, 0, 255, cv2.THRESH_OTSU | cv2.THRESH_BINARY_INV)\n",
    "\n",
    "    # Specify structure shape and kernel size. \n",
    "    # Kernel size increases or decreases the area \n",
    "    # of the rectangle to be detected.\n",
    "    # A smaller value like (10, 10) will detect \n",
    "    # each word instead of a sentence.\n",
    "    rect_kernel = cv2.getStructuringElement(cv2.MORPH_RECT, (18, 18))\n",
    "\n",
    "    # Applying dilation on the threshold image\n",
    "    dilation = cv2.dilate(thresh1, rect_kernel, iterations = 2)\n",
    "\n",
    "    # Finding contours\n",
    "    contours, hierarchy = cv2.findContours(dilation, cv2.RETR_EXTERNAL, \n",
    "                                                    cv2.CHAIN_APPROX_NONE)\n",
    "\n",
    "    # Creating a copy of image\n",
    "    im2 = img.copy()\n",
    "\n",
    "    return contours, im2"
   ]
  },
  {
   "cell_type": "code",
   "execution_count": 17,
   "metadata": {},
   "outputs": [],
   "source": [
    "def extract1(img_path, cut):\n",
    "    # Read image from which text needs to be extracted\n",
    "    img_real = cv2.imread(img_path)\n",
    "\n",
    "    img = cut\n",
    "    \n",
    "    # Preprocessing the image starts\n",
    "    \n",
    "    # Convert the image to gray scale\n",
    "    gray = cv2.cvtColor(img, cv2.COLOR_BGR2GRAY)\n",
    "    cv2.imwrite(f'grays/gray_{img_name}',gray)      \n",
    "    \n",
    "    # Performing OTSU threshold\n",
    "    ret, thresh1 = cv2.threshold(gray, 0, 255, cv2.THRESH_OTSU | cv2.THRESH_BINARY_INV)\n",
    "\n",
    "    # Specify structure shape and kernel size. \n",
    "    # Kernel size increases or decreases the area \n",
    "    # of the rectangle to be detected.\n",
    "    # A smaller value like (10, 10) will detect \n",
    "    # each word instead of a sentence.\n",
    "    rect_kernel = cv2.getStructuringElement(cv2.MORPH_RECT, (3, 3))\n",
    "\n",
    "    # Applying dilation on the threshold image\n",
    "    sth = cv2.morphologyEx(thresh1, cv2.MORPH_OPEN, rect_kernel, iterations = 1)\n",
    "    # sth = cv2.erode(thresh1, rect_kernel, iterations=1)\n",
    "\n",
    "    # show('sth', sth)\n",
    "    # Finding contours\n",
    "    contours, hierarchy = cv2.findContours(sth, cv2.RETR_EXTERNAL, \n",
    "                                                    cv2.CHAIN_APPROX_NONE)\n",
    "\n",
    "    # Creating a copy of image\n",
    "    im2 = img_real.copy()\n",
    "\n",
    "    return contours, im2"
   ]
  },
  {
   "cell_type": "code",
   "execution_count": 18,
   "metadata": {},
   "outputs": [],
   "source": [
    "# Create region of interest\n",
    "contours, im2 = extract(img_path)\n",
    "\n",
    "im4 = cv2.imread(img_path)\n",
    "\n",
    "for cnt in contours:\n",
    "    x, y, w, h = cv2.boundingRect(cnt)\n",
    "     \n",
    "    # Drawing a rectangle on copied image\n",
    "    rect = cv2.rectangle(im2, (x, y), (x + w, y + h), (0, 255, 0), 2)\n",
    "     \n",
    "    # Cropping the text block for giving input to OCR\n",
    "    cropped = im2[y:y + h, x:x + w]\n",
    "\n",
    "    contours2, im3 = extract1(img_path, cropped)\n",
    "    \n",
    "    for i in contours2:\n",
    "        x2, y2, w2, h2 = cv2.boundingRect(i)\n",
    "        rect2 = cv2.rectangle(im4, (x+x2, y+y2), (x+x2 + w2, y+y2 + h2), (0, 255, 0), 2)\n",
    "        cropped2 = im2[y+y2:y+y2 + h2, x+x2:x+x2 + w2]\n",
    "    \n"
   ]
  },
  {
   "cell_type": "code",
   "execution_count": 19,
   "metadata": {},
   "outputs": [
    {
     "data": {
      "text/plain": [
       "True"
      ]
     },
     "execution_count": 19,
     "metadata": {},
     "output_type": "execute_result"
    }
   ],
   "source": [
    "# save resulting image\n",
    "cv2.imwrite(f'boundingBoxes/bounding_box1_{img_name}',im2)\n",
    "cv2.imwrite(f'boundingBoxes/bounding_box2_{img_name}',im4)      "
   ]
  },
  {
   "cell_type": "code",
   "execution_count": 199,
   "metadata": {},
   "outputs": [],
   "source": [
    "# # A text file is created and flushed\n",
    "# file = open(\"recognized.txt\", \"w+\")\n",
    "# file.write(\"\")\n",
    "# file.close()\n",
    " \n",
    "# # Looping through the identified contours\n",
    "# # Then rectangular part is cropped and passed on\n",
    "# # to pytesseract for extracting text from it\n",
    "# # Extracted text is then written into the text file\n",
    "# for cnt in contours:\n",
    "#     x, y, w, h = cv2.boundingRect(cnt)\n",
    "     \n",
    "#     # Drawing a rectangle on copied image\n",
    "#     rect = cv2.rectangle(im2, (x, y), (x + w, y + h), (0, 255, 0), 2)\n",
    "     \n",
    "#     # Cropping the text block for giving input to OCR\n",
    "#     cropped = im2[y:y + h, x:x + w]\n",
    "     \n",
    "#     # Open the file in append mode\n",
    "#     file = open(\"recognized.txt\", \"a\")\n",
    "     \n",
    "#     # Apply OCR on the cropped image\n",
    "#     text = pytesseract.image_to_string(cropped)\n",
    "     \n",
    "#     # Appending the text into file\n",
    "#     file.write(text)\n",
    "#     file.write(\"\\n\")\n",
    "     \n",
    "#     # Close the file\n",
    "#     file.close"
   ]
  }
 ],
 "metadata": {
  "kernelspec": {
   "display_name": "Python 3",
   "language": "python",
   "name": "python3"
  },
  "language_info": {
   "codemirror_mode": {
    "name": "ipython",
    "version": 3
   },
   "file_extension": ".py",
   "mimetype": "text/x-python",
   "name": "python",
   "nbconvert_exporter": "python",
   "pygments_lexer": "ipython3",
   "version": "3.11.5"
  }
 },
 "nbformat": 4,
 "nbformat_minor": 2
}
